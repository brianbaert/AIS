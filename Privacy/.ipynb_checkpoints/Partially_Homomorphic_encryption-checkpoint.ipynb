{
 "cells": [
  {
   "cell_type": "markdown",
   "id": "8bf6d939-4646-47f2-95c5-be19612316c6",
   "metadata": {},
   "source": [
    "## Homomorphic Encryption"
   ]
  },
  {
   "cell_type": "code",
   "execution_count": 33,
   "id": "6908d145-c85d-42b0-8b5b-d51078bf934d",
   "metadata": {},
   "outputs": [],
   "source": [
    "#!pip install lightphe\n",
    "#!pip install tenseal\n",
    "import tenseal as ts\n",
    "from lightphe import LightPHE"
   ]
  },
  {
   "cell_type": "markdown",
   "id": "6d667e0a-39d0-441c-a53d-86a6b6e4a770",
   "metadata": {},
   "source": [
    "### RSA System"
   ]
  },
  {
   "cell_type": "code",
   "execution_count": 18,
   "id": "8b10a40f-a030-410a-9a31-2233784f06d8",
   "metadata": {},
   "outputs": [],
   "source": [
    "# build an Exponential ElGamal system\n",
    "cs = LightPHE(algorithm_name='RSA')\n",
    "\n",
    "# define plaintexts\n",
    "m1 = 17\n",
    "m2 = 23\n",
    "\n",
    "# calculate ciphertexts\n",
    "c1 = cs.encrypt(m1)\n",
    "c2 = cs.encrypt(m2)\n",
    "\n",
    "# perform addition on ciphertexts\n",
    "#assert cs.decrypt(c1 + c2) == m1 + m2\n",
    "\n",
    "# perform multiplication on ciphertexts\n",
    "assert cs.decrypt(c1 * c2) == m1 * m2"
   ]
  },
  {
   "cell_type": "markdown",
   "id": "747d5e03-6dd1-4801-8df2-17438d033c08",
   "metadata": {},
   "source": [
    "### ElGamal System\n",
    "Too slow in practice, takes up to 45 minutes!"
   ]
  },
  {
   "cell_type": "code",
   "execution_count": 21,
   "id": "1cedbe49-ba13-4496-bc6c-71b468878838",
   "metadata": {},
   "outputs": [],
   "source": [
    "# build an Exponential ElGamal system\n",
    "# cs = LightPHE(algorithm_name='Exponential-ElGamal')\n",
    "\n",
    "# define plaintexts\n",
    "# m1 = 17\n",
    "# m2 = 23\n",
    "\n",
    "# calculate ciphertexts\n",
    "# c1 = cs.encrypt(m1)\n",
    "# c2 = cs.encrypt(m2)\n",
    "\n",
    "# perform homomorphic addition on ciphertexts\n",
    "# assert cs.decrypt(c1 + c2) == m1 + m2\n",
    "\n",
    "# scalar multiplication\n",
    "# k = 1.15\n",
    "# assert cs.decrypt(k * c1) == k * m1"
   ]
  },
  {
   "cell_type": "markdown",
   "id": "0679bec8-93e4-4591-994c-15bdad221323",
   "metadata": {},
   "source": [
    "### Paillier System"
   ]
  },
  {
   "cell_type": "code",
   "execution_count": 24,
   "id": "6a30a033-dae5-4766-ad4a-52d7b0298b45",
   "metadata": {},
   "outputs": [],
   "source": [
    "# build a Paillier Cryptosystem\n",
    "cs = LightPHE(algorithm_name='Paillier')\n",
    "\n",
    "# define plaintexts\n",
    "m1 = 17\n",
    "m2 = 23\n",
    "\n",
    "# calculate ciphertexts\n",
    "c1 = cs.encrypt(m1)\n",
    "c2 = cs.encrypt(m2)\n",
    "\n",
    "# perform homomorphic addition on ciphertexts\n",
    "assert cs.decrypt(c1 + c2) == m1 + m2\n",
    "\n",
    "# scalar multiplication\n",
    "#k = 1.15\n",
    "#assert cs.decrypt(k * c1) == k * m1"
   ]
  },
  {
   "cell_type": "markdown",
   "id": "5cdd5d8b-f43e-4418-a6f9-dd67e8693c43",
   "metadata": {},
   "source": [
    "### TenSEAL System"
   ]
  },
  {
   "cell_type": "code",
   "execution_count": 35,
   "id": "b86c95a5-829c-4d08-b459-8056d4066695",
   "metadata": {},
   "outputs": [],
   "source": [
    "import base64\n",
    "\n",
    "def write_data(file_name: str, data: bytes):\n",
    "    data = base64.b64encode(data)\n",
    "    with open(file_name, 'wb') as f:\n",
    "        f.write(data)\n",
    "\n",
    "def read_data(file_name: str, data: bytes):\n",
    "    with open(file_name, 'rb') as f:\n",
    "        data = f.read()\n",
    "    return base64.b64decode(data)"
   ]
  },
  {
   "cell_type": "code",
   "execution_count": 37,
   "id": "04ec688b-e66f-49dc-b559-aefaa24f1a7d",
   "metadata": {},
   "outputs": [],
   "source": [
    "#CKKS scheme to work with real numbers\n",
    "context = ts.context(ts.SCHEME_TYPE.CKKS, poly_modulus_degree = 8192, coeff_mod_bit_sizes = [60, 40, 40, 60])\n",
    "context.generate_galois_keys()\n",
    "context.global_scale = 2**40"
   ]
  },
  {
   "cell_type": "code",
   "execution_count": null,
   "id": "0ffe0ada-c7df-4b88-b147-8e945686f00e",
   "metadata": {},
   "outputs": [],
   "source": []
  }
 ],
 "metadata": {
  "kernelspec": {
   "display_name": "Python 3 (ipykernel)",
   "language": "python",
   "name": "python3"
  },
  "language_info": {
   "codemirror_mode": {
    "name": "ipython",
    "version": 3
   },
   "file_extension": ".py",
   "mimetype": "text/x-python",
   "name": "python",
   "nbconvert_exporter": "python",
   "pygments_lexer": "ipython3",
   "version": "3.12.4"
  }
 },
 "nbformat": 4,
 "nbformat_minor": 5
}
