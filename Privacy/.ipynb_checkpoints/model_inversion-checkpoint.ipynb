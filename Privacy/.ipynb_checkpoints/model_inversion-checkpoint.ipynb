{
 "cells": [
  {
   "cell_type": "code",
   "execution_count": 3,
   "id": "c9f67f48-6fe1-4f5c-bc13-45670f1ce205",
   "metadata": {},
   "outputs": [],
   "source": [
    "from torch import nn, optim\n",
    "\n",
    "class SplitNN(nn.Module):\n",
    "    def __init__(self):\n",
    "        super(SplitNN, self).__init__()\n",
    "        self.first_part = nn.Sequential(\n",
    "            nn.Linear(784, 500),\n",
    "            nn.ReLU(),\n",
    "        )\n",
    "        self.second_part = nn.Sequential(\n",
    "            nn.Linear(500, 500),\n",
    "            nn.ReLU(),\n",
    "            nn.Linear(500, 10),\n",
    "            nn.Softmax(dim=-1),\n",
    "        )\n",
    "        \n",
    "    def forward(self, x):\n",
    "        return self.second_part(self.first_part(x))\n",
    "\n",
    "target_model = SplitNN()"
   ]
  },
  {
   "cell_type": "code",
   "execution_count": 5,
   "id": "b4388224-15fb-40a1-a82b-0a54b4d46ee8",
   "metadata": {},
   "outputs": [],
   "source": [
    "class Attacker(nn.Module):\n",
    "    def __init__(self):\n",
    "        super(Attacker, self).__init__()\n",
    "        self.layers = nn.Sequential(\n",
    "            nn.Linear(500, 1000),\n",
    "            nn.ReLU(),\n",
    "            nn.Linear(1000, 784),\n",
    "        )\n",
    "\n",
    "    def forward(self, x):\n",
    "        return self.layers(x)"
   ]
  },
  {
   "cell_type": "code",
   "execution_count": 7,
   "id": "49561a49-8493-48a6-88ba-e73e5d051310",
   "metadata": {},
   "outputs": [],
   "source": [
    "attacker = Attacker()\n",
    "optimiser = optim.Adam(attacker.parameters(), lr=1e-4)"
   ]
  },
  {
   "cell_type": "code",
   "execution_count": null,
   "id": "432da6b3-d85f-433f-8c34-6e91f34b6c07",
   "metadata": {},
   "outputs": [
    {
     "name": "stdout",
     "output_type": "stream",
     "text": [
      "Downloading https://biometrics.nist.gov/cs_links/EMNIST/gzip.zip to data\\EMNIST\\raw\\gzip.zip\n"
     ]
    },
    {
     "name": "stderr",
     "output_type": "stream",
     "text": [
      "  3%|▎         | 17006592/561753746 [03:18<1:36:26, 94144.50it/s] "
     ]
    }
   ],
   "source": [
    "from torchvision import datasets, transforms\n",
    "from torch.utils.data import DataLoader\n",
    "\n",
    "# Define the transformation\n",
    "transform = transforms.Compose([\n",
    "    transforms.ToTensor(),\n",
    "    transforms.Normalize((0.5,), (0.5,))\n",
    "])\n",
    "\n",
    "# Download and load the EMNIST dataset\n",
    "emnist_train = datasets.EMNIST(root='data', split='balanced', train=True, download=True, transform=transform)\n",
    "emnist_test = datasets.EMNIST(root='data', split='balanced', train=False, download=True, transform=transform)\n",
    "\n",
    "# Create DataLoaders\n",
    "train_loader = DataLoader(emnist_train, batch_size=64, shuffle=True)\n",
    "test_loader = DataLoader(emnist_test, batch_size=64, shuffle=False)"
   ]
  },
  {
   "cell_type": "code",
   "execution_count": null,
   "id": "f5bbba85-9dd1-461a-8f57-2db21d608005",
   "metadata": {},
   "outputs": [],
   "source": [
    "for data, targets in train_loader:\n",
    "  # Reset gradients\n",
    "  optimiser.zero_grad()\n",
    "  # First, get outputs from the target model\n",
    "  target_outputs = target_model.first_part(data)\n",
    "  # Next, recreate the data with the attacker\n",
    "  attack_outputs = attacker(target_outputs)\n",
    "  # We want attack outputs to resemble the original data\n",
    "  loss = ((data - attack_outputs)**2).mean()\n",
    "  # Update the attack model\n",
    "  loss.backward()\n",
    "  optimiser.step()"
   ]
  },
  {
   "cell_type": "code",
   "execution_count": null,
   "id": "5facce75-1a52-4961-946e-6f5be77c4bab",
   "metadata": {},
   "outputs": [],
   "source": [
    "for data, targets in mnist_test_loader:\n",
    "  target_outputs = target_model.first_part(data)\n",
    "  recreated_data = attacker(target_outputs)"
   ]
  },
  {
   "cell_type": "code",
   "execution_count": null,
   "id": "7a90dc64-9f15-47a9-a3a1-3f342c97dfe6",
   "metadata": {},
   "outputs": [],
   "source": []
  }
 ],
 "metadata": {
  "kernelspec": {
   "display_name": "Python 3 (ipykernel)",
   "language": "python",
   "name": "python3"
  },
  "language_info": {
   "codemirror_mode": {
    "name": "ipython",
    "version": 3
   },
   "file_extension": ".py",
   "mimetype": "text/x-python",
   "name": "python",
   "nbconvert_exporter": "python",
   "pygments_lexer": "ipython3",
   "version": "3.12.4"
  }
 },
 "nbformat": 4,
 "nbformat_minor": 5
}
