{
 "cells": [
  {
   "cell_type": "markdown",
   "id": "d3ebc0a3-8ae8-4395-86db-80172e1db98e",
   "metadata": {},
   "source": [
    "## Differential Privacy"
   ]
  },
  {
   "cell_type": "markdown",
   "id": "afbff83f-9097-4591-8899-8fc5749360dd",
   "metadata": {},
   "source": [
    "### Imports"
   ]
  },
  {
   "cell_type": "code",
   "execution_count": 3,
   "id": "466d375a-b3c5-47db-bb25-3d92986de522",
   "metadata": {},
   "outputs": [],
   "source": [
    "import pandas as pd\n",
    "import numpy as np\n",
    "import matplotlib.pyplot as plt"
   ]
  },
  {
   "cell_type": "markdown",
   "id": "84afa363-7358-4b63-8331-4ebef89ee287",
   "metadata": {},
   "source": [
    "### Dataset"
   ]
  },
  {
   "cell_type": "code",
   "execution_count": 6,
   "id": "3fbc46e5-b4a9-4d96-8da5-67b2b6391c30",
   "metadata": {},
   "outputs": [
    {
     "data": {
      "text/html": [
       "<div>\n",
       "<style scoped>\n",
       "    .dataframe tbody tr th:only-of-type {\n",
       "        vertical-align: middle;\n",
       "    }\n",
       "\n",
       "    .dataframe tbody tr th {\n",
       "        vertical-align: top;\n",
       "    }\n",
       "\n",
       "    .dataframe thead th {\n",
       "        text-align: right;\n",
       "    }\n",
       "</style>\n",
       "<table border=\"1\" class=\"dataframe\">\n",
       "  <thead>\n",
       "    <tr style=\"text-align: right;\">\n",
       "      <th></th>\n",
       "      <th>Name</th>\n",
       "      <th>DOB</th>\n",
       "      <th>SSN</th>\n",
       "      <th>Zip</th>\n",
       "      <th>Workclass</th>\n",
       "      <th>Education</th>\n",
       "      <th>Education-Num</th>\n",
       "      <th>Marital Status</th>\n",
       "      <th>Occupation</th>\n",
       "      <th>Relationship</th>\n",
       "      <th>Race</th>\n",
       "      <th>Sex</th>\n",
       "      <th>Hours per week</th>\n",
       "      <th>Country</th>\n",
       "      <th>Target</th>\n",
       "      <th>Age</th>\n",
       "      <th>Capital Gain</th>\n",
       "      <th>Capital Loss</th>\n",
       "    </tr>\n",
       "  </thead>\n",
       "  <tbody>\n",
       "    <tr>\n",
       "      <th>0</th>\n",
       "      <td>Karrie Trusslove</td>\n",
       "      <td>9/7/1967</td>\n",
       "      <td>732-14-6110</td>\n",
       "      <td>64152</td>\n",
       "      <td>State-gov</td>\n",
       "      <td>Bachelors</td>\n",
       "      <td>13</td>\n",
       "      <td>Never-married</td>\n",
       "      <td>Adm-clerical</td>\n",
       "      <td>Not-in-family</td>\n",
       "      <td>White</td>\n",
       "      <td>Male</td>\n",
       "      <td>40</td>\n",
       "      <td>United-States</td>\n",
       "      <td>&lt;=50K</td>\n",
       "      <td>56</td>\n",
       "      <td>2174</td>\n",
       "      <td>0</td>\n",
       "    </tr>\n",
       "    <tr>\n",
       "      <th>1</th>\n",
       "      <td>Brandise Tripony</td>\n",
       "      <td>6/7/1988</td>\n",
       "      <td>150-19-2766</td>\n",
       "      <td>61523</td>\n",
       "      <td>Self-emp-not-inc</td>\n",
       "      <td>Bachelors</td>\n",
       "      <td>13</td>\n",
       "      <td>Married-civ-spouse</td>\n",
       "      <td>Exec-managerial</td>\n",
       "      <td>Husband</td>\n",
       "      <td>White</td>\n",
       "      <td>Male</td>\n",
       "      <td>13</td>\n",
       "      <td>United-States</td>\n",
       "      <td>&lt;=50K</td>\n",
       "      <td>35</td>\n",
       "      <td>0</td>\n",
       "      <td>0</td>\n",
       "    </tr>\n",
       "    <tr>\n",
       "      <th>2</th>\n",
       "      <td>Brenn McNeely</td>\n",
       "      <td>8/6/1991</td>\n",
       "      <td>725-59-9860</td>\n",
       "      <td>95668</td>\n",
       "      <td>Private</td>\n",
       "      <td>HS-grad</td>\n",
       "      <td>9</td>\n",
       "      <td>Divorced</td>\n",
       "      <td>Handlers-cleaners</td>\n",
       "      <td>Not-in-family</td>\n",
       "      <td>White</td>\n",
       "      <td>Male</td>\n",
       "      <td>40</td>\n",
       "      <td>United-States</td>\n",
       "      <td>&lt;=50K</td>\n",
       "      <td>32</td>\n",
       "      <td>0</td>\n",
       "      <td>0</td>\n",
       "    </tr>\n",
       "    <tr>\n",
       "      <th>3</th>\n",
       "      <td>Dorry Poter</td>\n",
       "      <td>4/6/2009</td>\n",
       "      <td>659-57-4974</td>\n",
       "      <td>25503</td>\n",
       "      <td>Private</td>\n",
       "      <td>11th</td>\n",
       "      <td>7</td>\n",
       "      <td>Married-civ-spouse</td>\n",
       "      <td>Handlers-cleaners</td>\n",
       "      <td>Husband</td>\n",
       "      <td>Black</td>\n",
       "      <td>Male</td>\n",
       "      <td>40</td>\n",
       "      <td>United-States</td>\n",
       "      <td>&lt;=50K</td>\n",
       "      <td>14</td>\n",
       "      <td>0</td>\n",
       "      <td>0</td>\n",
       "    </tr>\n",
       "    <tr>\n",
       "      <th>4</th>\n",
       "      <td>Dick Honnan</td>\n",
       "      <td>9/16/1951</td>\n",
       "      <td>220-93-3811</td>\n",
       "      <td>75387</td>\n",
       "      <td>Private</td>\n",
       "      <td>Bachelors</td>\n",
       "      <td>13</td>\n",
       "      <td>Married-civ-spouse</td>\n",
       "      <td>Prof-specialty</td>\n",
       "      <td>Wife</td>\n",
       "      <td>Black</td>\n",
       "      <td>Female</td>\n",
       "      <td>40</td>\n",
       "      <td>Cuba</td>\n",
       "      <td>&lt;=50K</td>\n",
       "      <td>72</td>\n",
       "      <td>0</td>\n",
       "      <td>0</td>\n",
       "    </tr>\n",
       "  </tbody>\n",
       "</table>\n",
       "</div>"
      ],
      "text/plain": [
       "               Name        DOB          SSN    Zip         Workclass  \\\n",
       "0  Karrie Trusslove   9/7/1967  732-14-6110  64152         State-gov   \n",
       "1  Brandise Tripony   6/7/1988  150-19-2766  61523  Self-emp-not-inc   \n",
       "2     Brenn McNeely   8/6/1991  725-59-9860  95668           Private   \n",
       "3       Dorry Poter   4/6/2009  659-57-4974  25503           Private   \n",
       "4       Dick Honnan  9/16/1951  220-93-3811  75387           Private   \n",
       "\n",
       "   Education  Education-Num      Marital Status         Occupation  \\\n",
       "0  Bachelors             13       Never-married       Adm-clerical   \n",
       "1  Bachelors             13  Married-civ-spouse    Exec-managerial   \n",
       "2    HS-grad              9            Divorced  Handlers-cleaners   \n",
       "3       11th              7  Married-civ-spouse  Handlers-cleaners   \n",
       "4  Bachelors             13  Married-civ-spouse     Prof-specialty   \n",
       "\n",
       "    Relationship   Race     Sex  Hours per week        Country Target  Age  \\\n",
       "0  Not-in-family  White    Male              40  United-States  <=50K   56   \n",
       "1        Husband  White    Male              13  United-States  <=50K   35   \n",
       "2  Not-in-family  White    Male              40  United-States  <=50K   32   \n",
       "3        Husband  Black    Male              40  United-States  <=50K   14   \n",
       "4           Wife  Black  Female              40           Cuba  <=50K   72   \n",
       "\n",
       "   Capital Gain  Capital Loss  \n",
       "0          2174             0  \n",
       "1             0             0  \n",
       "2             0             0  \n",
       "3             0             0  \n",
       "4             0             0  "
      ]
     },
     "execution_count": 6,
     "metadata": {},
     "output_type": "execute_result"
    }
   ],
   "source": [
    "adult = pd.read_csv(\"adult_with_pii.csv\")\n",
    "adult.head()"
   ]
  },
  {
   "cell_type": "markdown",
   "id": "e57cf7f7-b00e-4113-a149-2ae65eb835f7",
   "metadata": {},
   "source": [
    "### Laplace mechanism"
   ]
  },
  {
   "cell_type": "markdown",
   "id": "7c96e372-07ef-4dcb-b934-c103b6ec144e",
   "metadata": {},
   "source": [
    "DP is used to answer queries. Suppose we want to know \"How many individuals in the dataset are 40 years or older?\""
   ]
  },
  {
   "cell_type": "code",
   "execution_count": 18,
   "id": "5870b7a3-eaa9-49f7-8589-50eac3c1ccd6",
   "metadata": {},
   "outputs": [
    {
     "data": {
      "text/plain": [
       "17450"
      ]
     },
     "execution_count": 18,
     "metadata": {},
     "output_type": "execute_result"
    }
   ],
   "source": [
    "adult[adult['Age']>=40].shape[0]"
   ]
  },
  {
   "cell_type": "markdown",
   "id": "5a95cb76-4931-44e3-a3f7-095961b1b0b1",
   "metadata": {},
   "source": [
    "Applying the Laplace Mechanism "
   ]
  },
  {
   "cell_type": "code",
   "execution_count": 15,
   "id": "95610a14-22fc-4869-8978-0ae101b999be",
   "metadata": {},
   "outputs": [
    {
     "data": {
      "text/plain": [
       "17456.93815164522"
      ]
     },
     "execution_count": 15,
     "metadata": {},
     "output_type": "execute_result"
    }
   ],
   "source": [
    "sensitivity = 1\n",
    "epsilon = 0.1\n",
    "adult[adult['Age'] >= 40].shape[0] + np.random.laplace(loc=0, scale=(sensitivity/epsilon))"
   ]
  },
  {
   "cell_type": "markdown",
   "id": "9a2dae0d-7e64-4388-85b4-87eef6f33aa7",
   "metadata": {},
   "source": [
    "The effect changes each time the code is run."
   ]
  },
  {
   "cell_type": "markdown",
   "id": "e2bbd108-55c0-440e-b9b7-45b0b2e79114",
   "metadata": {},
   "source": [
    "How much noise is enough? Suppose we want to query the following: 'Determine whether Dick Honnan has an income greater than $50k.'"
   ]
  },
  {
   "cell_type": "code",
   "execution_count": 21,
   "id": "6385e4ec-2c58-4448-be25-adec423f7190",
   "metadata": {},
   "outputs": [
    {
     "data": {
      "text/plain": [
       "1"
      ]
     },
     "execution_count": 21,
     "metadata": {},
     "output_type": "execute_result"
    }
   ],
   "source": [
    "dicks_row = adult[adult['Name'] == 'Dick Honnan']\n",
    "dicks_row[dicks_row['Target'] == '<=50K'].shape[0]"
   ]
  },
  {
   "cell_type": "markdown",
   "id": "7b26541b-3306-4445-8e25-f8e8a3375b12",
   "metadata": {},
   "source": [
    "The above result violates the privacy! Let's apply Laplace to the query"
   ]
  },
  {
   "cell_type": "code",
   "execution_count": 37,
   "id": "c7dd63ad-8d4a-4558-9ceb-514f1d84081c",
   "metadata": {},
   "outputs": [
    {
     "data": {
      "text/plain": [
       "0.3881324836487333"
      ]
     },
     "execution_count": 37,
     "metadata": {},
     "output_type": "execute_result"
    }
   ],
   "source": [
    "sensitivity = 1\n",
    "epsilon = 0.1\n",
    "dicks_row = adult[adult['Name'] == 'Dick Honnan']\n",
    "dicks_row[dicks_row['Target'] == '<=50K'].shape[0] + np.random.laplace(loc=0, scale=(sensitivity/epsilon))"
   ]
  },
  {
   "cell_type": "markdown",
   "id": "e89c5b7e-c859-4554-a00e-b23a423228ac",
   "metadata": {},
   "source": [
    "Now there is too much noise to be able to tell this query is true or false."
   ]
  },
  {
   "cell_type": "markdown",
   "id": "84eb944a-e246-4a25-bb23-6aef63cf8195",
   "metadata": {},
   "source": [
    "### Sequential Composition"
   ]
  },
  {
   "cell_type": "code",
   "execution_count": 41,
   "id": "ae13be35-b7d3-4963-b7a7-bf967030036f",
   "metadata": {},
   "outputs": [],
   "source": [
    "epsilon1 = 1\n",
    "epsilon2 = 1\n",
    "epsilon_total = 2\n",
    "\n",
    "# satisfies 1-differential privacy\n",
    "def M1():\n",
    "    return np.random.laplace(loc=0, scale=1/epsilon1)\n",
    "\n",
    "# satisfies 1-differential privacy\n",
    "def M2():\n",
    "    return np.random.laplace(loc=0, scale=1/epsilon2)\n",
    "\n",
    "# satisfies 2-differential privacy\n",
    "def M3():\n",
    "    return np.random.laplace(loc=0, scale=1/epsilon_total)\n",
    "\n",
    "# satisfies 2-differential privacy, by sequential composition\n",
    "def M_combined():\n",
    "    return (M1() + M2()) / 2"
   ]
  },
  {
   "cell_type": "code",
   "execution_count": 45,
   "id": "848f9259-2432-4b33-987e-ec70ec4b04cd",
   "metadata": {},
   "outputs": [
    {
     "data": {
      "image/png": "[encoded data removed]",
      "text/plain": [
       "<Figure size 640x480 with 1 Axes>"
      ]
     },
     "metadata": {},
     "output_type": "display_data"
    }
   ],
   "source": [
    "# plot M1\n",
    "plt.hist([M1() for i in range(1000)], bins=50, label='M1');\n",
    "\n",
    "# plot M2 (should look the same)\n",
    "plt.hist([M2() for i in range(1000)], bins=50, alpha=.7, label='M2');\n",
    "plt.legend();"
   ]
  },
  {
   "cell_type": "markdown",
   "id": "b05e7654-cd3a-4b65-8edb-2e453ff51c45",
   "metadata": {},
   "source": [
    "Pretty similar results"
   ]
  },
  {
   "cell_type": "code",
   "execution_count": 48,
   "id": "d7fa6a30-2f33-41d2-9b35-dfd427dbc2d4",
   "metadata": {},
   "outputs": [
    {
     "data": {
      "image/png": "[encoded data removed]",
      "text/plain": [
       "<Figure size 640x480 with 1 Axes>"
      ]
     },
     "metadata": {},
     "output_type": "display_data"
    }
   ],
   "source": [
    "# plot M1\n",
    "plt.hist([M1() for i in range(1000)], bins=50, label='M1')\n",
    "\n",
    "# plot M3\n",
    "plt.hist([M3() for i in range(1000)], bins=50, alpha=.7, label='M3');\n",
    "plt.legend();"
   ]
  },
  {
   "cell_type": "markdown",
   "id": "094abeff-bd47-4e79-9ef1-62c9975b61ba",
   "metadata": {},
   "source": [
    "Somewhat more pointy shape"
   ]
  },
  {
   "cell_type": "code",
   "execution_count": 51,
   "id": "eb6231b2-72a3-4f5d-824b-3247cdb985e9",
   "metadata": {},
   "outputs": [
    {
     "data": {
      "image/png": "[encoded data removed]",
      "text/plain": [
       "<Figure size 640x480 with 1 Axes>"
      ]
     },
     "metadata": {},
     "output_type": "display_data"
    }
   ],
   "source": [
    "# plot M1\n",
    "plt.hist([M1() for i in range(1000)], bins=50, label='M1');\n",
    "\n",
    "# plot M_combined\n",
    "plt.hist([M_combined() for i in range(1000)], bins=50, alpha=.7, label='M_combined');\n",
    "plt.legend();"
   ]
  },
  {
   "cell_type": "markdown",
   "id": "e5570282-6eae-4af1-90fd-ff321cd319b6",
   "metadata": {},
   "source": [
    "Somewhat more pointy shape"
   ]
  },
  {
   "cell_type": "markdown",
   "id": "de155275-e629-4e24-9758-b6b2703f9ea4",
   "metadata": {},
   "source": [
    "### Parellel Composition"
   ]
  },
  {
   "cell_type": "code",
   "execution_count": 58,
   "id": "ce9e20c5-c9b5-4ded-99c1-562d26ef6105",
   "metadata": {},
   "outputs": [
    {
     "data": {
      "text/html": [
       "<div>\n",
       "<style scoped>\n",
       "    .dataframe tbody tr th:only-of-type {\n",
       "        vertical-align: middle;\n",
       "    }\n",
       "\n",
       "    .dataframe tbody tr th {\n",
       "        vertical-align: top;\n",
       "    }\n",
       "\n",
       "    .dataframe thead th {\n",
       "        text-align: right;\n",
       "    }\n",
       "</style>\n",
       "<table border=\"1\" class=\"dataframe\">\n",
       "  <thead>\n",
       "    <tr style=\"text-align: right;\">\n",
       "      <th></th>\n",
       "      <th>count</th>\n",
       "    </tr>\n",
       "    <tr>\n",
       "      <th>Education</th>\n",
       "      <th></th>\n",
       "    </tr>\n",
       "  </thead>\n",
       "  <tbody>\n",
       "    <tr>\n",
       "      <th>HS-grad</th>\n",
       "      <td>10501</td>\n",
       "    </tr>\n",
       "    <tr>\n",
       "      <th>Some-college</th>\n",
       "      <td>7291</td>\n",
       "    </tr>\n",
       "    <tr>\n",
       "      <th>Bachelors</th>\n",
       "      <td>5355</td>\n",
       "    </tr>\n",
       "    <tr>\n",
       "      <th>Masters</th>\n",
       "      <td>1723</td>\n",
       "    </tr>\n",
       "    <tr>\n",
       "      <th>Assoc-voc</th>\n",
       "      <td>1383</td>\n",
       "    </tr>\n",
       "  </tbody>\n",
       "</table>\n",
       "</div>"
      ],
      "text/plain": [
       "              count\n",
       "Education          \n",
       "HS-grad       10501\n",
       "Some-college   7291\n",
       "Bachelors      5355\n",
       "Masters        1723\n",
       "Assoc-voc      1383"
      ]
     },
     "execution_count": 58,
     "metadata": {},
     "output_type": "execute_result"
    }
   ],
   "source": [
    "adult = pd.read_csv(\"adult_with_pii.csv\")\n",
    "adult['Education'].value_counts().to_frame().head(5)"
   ]
  },
  {
   "cell_type": "markdown",
   "id": "3e2f6561-3b39-41b6-8eb6-2fd3bb256468",
   "metadata": {},
   "source": [
    "Splitting in bins satisfies parallel composition, because a single row can only have one value (disjoint). We can use DP to release all of the counts with a total privacy cost $\\epsilon$."
   ]
  },
  {
   "cell_type": "code",
   "execution_count": 62,
   "id": "3015a462-f305-41ae-9f5c-050538614c7a",
   "metadata": {},
   "outputs": [
    {
     "data": {
      "text/html": [
       "<div>\n",
       "<style scoped>\n",
       "    .dataframe tbody tr th:only-of-type {\n",
       "        vertical-align: middle;\n",
       "    }\n",
       "\n",
       "    .dataframe tbody tr th {\n",
       "        vertical-align: top;\n",
       "    }\n",
       "\n",
       "    .dataframe thead th {\n",
       "        text-align: right;\n",
       "    }\n",
       "</style>\n",
       "<table border=\"1\" class=\"dataframe\">\n",
       "  <thead>\n",
       "    <tr style=\"text-align: right;\">\n",
       "      <th></th>\n",
       "      <th>count</th>\n",
       "    </tr>\n",
       "    <tr>\n",
       "      <th>Education</th>\n",
       "      <th></th>\n",
       "    </tr>\n",
       "  </thead>\n",
       "  <tbody>\n",
       "    <tr>\n",
       "      <th>HS-grad</th>\n",
       "      <td>10499.485490</td>\n",
       "    </tr>\n",
       "    <tr>\n",
       "      <th>Some-college</th>\n",
       "      <td>7291.261299</td>\n",
       "    </tr>\n",
       "    <tr>\n",
       "      <th>Bachelors</th>\n",
       "      <td>5353.900803</td>\n",
       "    </tr>\n",
       "    <tr>\n",
       "      <th>Masters</th>\n",
       "      <td>1723.089465</td>\n",
       "    </tr>\n",
       "    <tr>\n",
       "      <th>Assoc-voc</th>\n",
       "      <td>1384.060557</td>\n",
       "    </tr>\n",
       "  </tbody>\n",
       "</table>\n",
       "</div>"
      ],
      "text/plain": [
       "                     count\n",
       "Education                 \n",
       "HS-grad       10499.485490\n",
       "Some-college   7291.261299\n",
       "Bachelors      5353.900803\n",
       "Masters        1723.089465\n",
       "Assoc-voc      1384.060557"
      ]
     },
     "execution_count": 62,
     "metadata": {},
     "output_type": "execute_result"
    }
   ],
   "source": [
    "epsilon = 1\n",
    "\n",
    "# This analysis has a total privacy cost of epsilon = 1, even though we release many results!\n",
    "f = lambda x: x + np.random.laplace(loc=0, scale=1/epsilon)\n",
    "s = adult['Education'].value_counts().apply(f)\n",
    "s.to_frame().head(5)"
   ]
  },
  {
   "cell_type": "markdown",
   "id": "6cdc4abc-56c1-44a3-962f-f5a1b973c803",
   "metadata": {},
   "source": [
    "### Sensitivity\n",
    "\n",
    "Counting queries always have a sensitivity of 1. This is because adding a row to the dataset can increase the output by at most 1. "
   ]
  },
  {
   "cell_type": "markdown",
   "id": "cefc93a1-29e6-4887-84ec-3c052894bc9f",
   "metadata": {},
   "source": [
    "Q1: \"How many people are in the dataset?\""
   ]
  },
  {
   "cell_type": "code",
   "execution_count": 66,
   "id": "0127c234-d946-4381-b544-5f882ba6af86",
   "metadata": {},
   "outputs": [
    {
     "data": {
      "text/plain": [
       "32563"
      ]
     },
     "execution_count": 66,
     "metadata": {},
     "output_type": "execute_result"
    }
   ],
   "source": [
    "adult.shape[0]"
   ]
  },
  {
   "cell_type": "markdown",
   "id": "4c7e1dc7-0816-4462-8e87-3efa3633b5a0",
   "metadata": {},
   "source": [
    "Q2: \"How many people have an educational status equal to or below 10?\""
   ]
  },
  {
   "cell_type": "code",
   "execution_count": 69,
   "id": "8947321b-3027-4a75-8e01-ba3a9396525e",
   "metadata": {},
   "outputs": [
    {
     "data": {
      "text/plain": [
       "22046"
      ]
     },
     "execution_count": 69,
     "metadata": {},
     "output_type": "execute_result"
    }
   ],
   "source": [
    "adult[adult['Education-Num'] <= 10].shape[0]"
   ]
  },
  {
   "cell_type": "markdown",
   "id": "4fb33795-4691-42e2-b342-3e496670ecd2",
   "metadata": {},
   "source": [
    "Q3: \"What is the sum of the ages of people with an educational status above 10?\""
   ]
  },
  {
   "cell_type": "code",
   "execution_count": 73,
   "id": "75d5bf73-91e1-47bc-9188-0607abcb8222",
   "metadata": {},
   "outputs": [
    {
     "data": {
      "text/plain": [
       "441431"
      ]
     },
     "execution_count": 73,
     "metadata": {},
     "output_type": "execute_result"
    }
   ],
   "source": [
    "adult[adult['Education-Num'] > 10]['Age'].sum()"
   ]
  },
  {
   "cell_type": "markdown",
   "id": "794ddd00-378c-4032-be9b-501b64e0f906",
   "metadata": {},
   "source": [
    "Deciding the sensitivity of this kind of query is difficult. Adding a new row will increase the result of our example by the age of the new person. This is an unbounded sensitivity, no lower and upper bounds exist on the value."
   ]
  },
  {
   "cell_type": "markdown",
   "id": "37079e4c-59ed-46f4-af14-b5db76b09403",
   "metadata": {},
   "source": [
    "Q4: \"What is the average age of people with an educational status above 10?\""
   ]
  },
  {
   "cell_type": "code",
   "execution_count": 77,
   "id": "39799952-7447-4ff3-8f15-c69a8d592089",
   "metadata": {},
   "outputs": [
    {
     "data": {
      "text/plain": [
       "41.973091185699346"
      ]
     },
     "execution_count": 77,
     "metadata": {},
     "output_type": "execute_result"
    }
   ],
   "source": [
    "adult[adult['Education-Num'] > 10]['Age'].mean()"
   ]
  },
  {
   "cell_type": "markdown",
   "id": "73b8f9df-f954-4e66-8a01-abd4d1069fbd",
   "metadata": {},
   "source": [
    "The above query can be rephrased into a summation query divided by a counting query. "
   ]
  },
  {
   "cell_type": "code",
   "execution_count": 80,
   "id": "6ee38623-aabd-483b-9116-8068bb8cefaa",
   "metadata": {},
   "outputs": [
    {
     "data": {
      "text/plain": [
       "41.973091185699346"
      ]
     },
     "execution_count": 80,
     "metadata": {},
     "output_type": "execute_result"
    }
   ],
   "source": [
    "adult[adult['Education-Num'] > 10]['Age'].sum() / adult[adult['Education-Num'] > 10]['Age'].shape[0]"
   ]
  },
  {
   "cell_type": "markdown",
   "id": "ab0377a5-86b6-4e7c-b487-d9e48990de36",
   "metadata": {},
   "source": [
    "### Approximate DP"
   ]
  },
  {
   "cell_type": "markdown",
   "id": "f24b5679-bdcb-44e1-a22e-89acc749bbe3",
   "metadata": {},
   "source": [
    "Example of the Empirical probability density function of the Gaussian versus Laplace mechanism with $\\epsilon=1; \\delta=10^{-5}$"
   ]
  },
  {
   "cell_type": "code",
   "execution_count": 86,
   "id": "15bbfbfa-62e6-4b32-9739-fab2550609c8",
   "metadata": {},
   "outputs": [
    {
     "data": {
      "image/png": "[encoded data removed]",
      "text/plain": [
       "<Figure size 640x480 with 1 Axes>"
      ]
     },
     "metadata": {},
     "output_type": "display_data"
    }
   ],
   "source": [
    "epsilon = 1\n",
    "vals_laplace = [np.random.laplace(loc=0, scale=1/epsilon) for x in range(100000)]\n",
    "\n",
    "delta = 10e-5\n",
    "sigma = np.sqrt(2 * np.log(1.25 / delta)) * 1 / epsilon\n",
    "vals_gauss = [np.random.normal(loc=0, scale=sigma) for x in range(100000)]\n",
    "\n",
    "plt.hist(vals_laplace, bins=50, label='Laplace')\n",
    "plt.hist(vals_gauss, bins=50, alpha=.7, label='Gaussian');\n",
    "plt.legend();"
   ]
  },
  {
   "cell_type": "markdown",
   "id": "942a4f93-f1e4-49a9-bc81-ea08ecddd246",
   "metadata": {},
   "source": [
    "The Gaussian looks more flat and wide. It follows the Bell curve shape"
   ]
  },
  {
   "cell_type": "markdown",
   "id": "db73f0c8-06d8-4a2b-8a0b-0b84b51fd46a",
   "metadata": {},
   "source": [
    "### Exponential mechanism"
   ]
  },
  {
   "cell_type": "code",
   "execution_count": 97,
   "id": "59143fd7-cc1f-4fd2-9bb5-f83a327a5975",
   "metadata": {},
   "outputs": [
    {
     "data": {
      "text/plain": [
       "10.684"
      ]
     },
     "execution_count": 97,
     "metadata": {},
     "output_type": "execute_result"
    }
   ],
   "source": [
    "options = adult['Marital Status'].unique()\n",
    "\n",
    "def score(data, option):\n",
    "    return data.value_counts()[option]/1000\n",
    "\n",
    "score(adult['Marital Status'], 'Never-married')"
   ]
  },
  {
   "cell_type": "code",
   "execution_count": 101,
   "id": "cc837f08-46cf-42a0-bbab-3ea450d54b78",
   "metadata": {},
   "outputs": [
    {
     "data": {
      "text/plain": [
       "'Married-civ-spouse'"
      ]
     },
     "execution_count": 101,
     "metadata": {},
     "output_type": "execute_result"
    }
   ],
   "source": [
    "def exponential(x, R, u, sensitivity, epsilon):\n",
    "    # Calculate the score for each element of R\n",
    "    scores = [u(x, r) for r in R]\n",
    "    \n",
    "    # Calculate the probability for each element, based on its score\n",
    "    probabilities = [np.exp(epsilon * score / (2 * sensitivity)) for score in scores]\n",
    "    \n",
    "    # Normalize the probabilties so they sum to 1\n",
    "    probabilities = probabilities / np.linalg.norm(probabilities, ord=1)\n",
    "\n",
    "    # Choose an element from R based on the probabilities\n",
    "    return np.random.choice(R, 1, p=probabilities)[0]\n",
    "\n",
    "exponential(adult['Marital Status'], options, score, 1, 1)"
   ]
  },
  {
   "cell_type": "code",
   "execution_count": 103,
   "id": "9045b3f9-7489-43cc-8d56-a332c3c45f4a",
   "metadata": {},
   "outputs": [
    {
     "data": {
      "text/plain": [
       "Married-civ-spouse    183\n",
       "Never-married          16\n",
       "Widowed                 1\n",
       "Name: count, dtype: int64"
      ]
     },
     "execution_count": 103,
     "metadata": {},
     "output_type": "execute_result"
    }
   ],
   "source": [
    "r = [exponential(adult['Marital Status'], options, score, 1, 1) for i in range(200)]\n",
    "pd.Series(r).value_counts()"
   ]
  },
  {
   "cell_type": "markdown",
   "id": "09220366-d59e-4400-9d1d-36d526d7f5a2",
   "metadata": {},
   "source": [
    "### Above Threshold"
   ]
  },
  {
   "cell_type": "code",
   "execution_count": 106,
   "id": "efeb4d56-f072-456e-be41-e93eadeef81e",
   "metadata": {},
   "outputs": [],
   "source": [
    "import random\n",
    "\n",
    "# preserves epsilon-differential privacy\n",
    "def above_threshold(queries, df, T, epsilon):\n",
    "    T_hat = T + np.random.laplace(loc=0, scale = 2/epsilon)   \n",
    "    for idx, q in enumerate(queries):\n",
    "        nu_i = np.random.laplace(loc=0, scale = 4/epsilon)\n",
    "        if q(df) + nu_i >= T_hat:\n",
    "            return idx\n",
    "    # if the algorithm \"fails\", return a random index \n",
    "    # more convenient in certain use cases    \n",
    "    return random.randint(0,len(queries)-1)\n",
    "\n",
    "def above_threshold_fail_signal(queries, df, T, epsilon):\n",
    "    T_hat = T + np.random.laplace(loc=0, scale = 2/epsilon)   \n",
    "    for idx, q in enumerate(queries):\n",
    "        nu_i = np.random.laplace(loc=0, scale = 4/epsilon)\n",
    "        if q(df) + nu_i >= T_hat:\n",
    "            return idx\n",
    "    # return an invalid index as the special \"fail\" signal\n",
    "    # this is convenient for implementing the sparse algorithm\n",
    "    return None \n",
    "                                  "
   ]
  },
  {
   "cell_type": "code",
   "execution_count": 108,
   "id": "de22259f-38c1-402a-9ae5-5de77dabd4dc",
   "metadata": {},
   "outputs": [],
   "source": [
    "# preserves |queries|*epsilon-differential privacy\n",
    "def naive_above_threshold(queries, df, T, epsilon):\n",
    "    for idx, q in enumerate(queries):\n",
    "        nu_i = np.random.laplace(loc=0, scale = 1/epsilon)\n",
    "        if q(df) + nu_i >= T:\n",
    "            return idx\n",
    "    return None"
   ]
  },
  {
   "cell_type": "code",
   "execution_count": 110,
   "id": "9e78a6c1-4bfd-487d-9379-2cb11509e360",
   "metadata": {},
   "outputs": [
    {
     "data": {
      "text/plain": [
       "879648"
      ]
     },
     "execution_count": 110,
     "metadata": {},
     "output_type": "execute_result"
    }
   ],
   "source": [
    "def age_sum_query(df, b):\n",
    "    return df['Age'].clip(lower=0, upper=b).sum()\n",
    "\n",
    "age_sum_query(adult, 30)"
   ]
  },
  {
   "cell_type": "code",
   "execution_count": 114,
   "id": "89307399-2608-42f7-b214-f2f16ec9f77f",
   "metadata": {},
   "outputs": [
    {
     "data": {
      "text/plain": [
       "91"
      ]
     },
     "execution_count": 114,
     "metadata": {},
     "output_type": "execute_result"
    }
   ],
   "source": [
    "def laplace_mech(v, sensitivity, epsilon):\n",
    "    return v + np.random.laplace(loc=0, scale=sensitivity / epsilon)\n",
    "    \n",
    "def pct_error(orig, priv):\n",
    "    return np.abs(orig - priv)/orig * 100.0\n",
    "\n",
    "def naive_select_b(query, df, epsilon):\n",
    "    bs = range(1, 1000, 10)\n",
    "    best = 0\n",
    "    threshold = 10\n",
    "    epsilon_i = epsilon / len(bs)\n",
    "    \n",
    "    for b in bs:\n",
    "        r = laplace_mech(query(df, b), b, epsilon_i)\n",
    "        \n",
    "        # if the new answer is pretty close to the old answer, stop\n",
    "        if r - best <= threshold:\n",
    "            return b\n",
    "        # otherwise update the \"best\" answer to be the current one\n",
    "        else:\n",
    "            best = r\n",
    "        \n",
    "    return bs[-1]\n",
    "\n",
    "naive_select_b(age_sum_query, adult, 1)"
   ]
  },
  {
   "cell_type": "code",
   "execution_count": 116,
   "id": "a0a888cc-83cc-40f0-9181-c3d03908ed68",
   "metadata": {},
   "outputs": [
    {
     "data": {
      "image/png": "[encoded data removed]",
      "text/plain": [
       "<Figure size 640x480 with 1 Axes>"
      ]
     },
     "metadata": {},
     "output_type": "display_data"
    }
   ],
   "source": [
    "bs = range(1,150,5)\n",
    "query_results = [age_sum_query(adult, b) - age_sum_query(adult, b + 1) for b in bs]\n",
    "plt.xlabel('Value of \"b\"')\n",
    "plt.ylabel('Change in Query Output')\n",
    "plt.plot(query_results);"
   ]
  },
  {
   "cell_type": "code",
   "execution_count": 122,
   "id": "17be48f6-1001-457a-adfc-481a1d37a9fe",
   "metadata": {},
   "outputs": [
    {
     "data": {
      "text/plain": [
       "81"
      ]
     },
     "execution_count": 122,
     "metadata": {},
     "output_type": "execute_result"
    }
   ],
   "source": [
    "def create_query(b):\n",
    "    return lambda df: age_sum_query(df, b) - age_sum_query(df, b + 1)\n",
    "\n",
    "bs = range(1,150,5)\n",
    "queries = [create_query(b) for b in bs]\n",
    "epsilon = .1\n",
    "\n",
    "bs[above_threshold(queries, adult, 0, epsilon)]"
   ]
  },
  {
   "cell_type": "code",
   "execution_count": 126,
   "id": "b307f2da-4c16-40fd-8af6-c302e8b1a56a",
   "metadata": {},
   "outputs": [
    {
     "data": {
      "image/png": "[encoded data removed]",
      "text/plain": [
       "<Figure size 640x480 with 1 Axes>"
      ]
     },
     "metadata": {},
     "output_type": "display_data"
    }
   ],
   "source": [
    "plt.xlabel('Chosen Value of \"b\"')\n",
    "plt.ylabel('Number of Occurrences')\n",
    "plt.hist([bs[above_threshold(queries, adult, 0, epsilon)] for i in range(20)]);"
   ]
  },
  {
   "cell_type": "code",
   "execution_count": null,
   "id": "6ef95052-662b-46d0-b986-a9ab92f4efdd",
   "metadata": {},
   "outputs": [],
   "source": []
  }
 ],
 "metadata": {
  "kernelspec": {
   "display_name": "Python 3 (ipykernel)",
   "language": "python",
   "name": "python3"
  },
  "language_info": {
   "codemirror_mode": {
    "name": "ipython",
    "version": 3
   },
   "file_extension": ".py",
   "mimetype": "text/x-python",
   "name": "python",
   "nbconvert_exporter": "python",
   "pygments_lexer": "ipython3",
   "version": "3.12.4"
  }
 },
 "nbformat": 4,
 "nbformat_minor": 5
}
