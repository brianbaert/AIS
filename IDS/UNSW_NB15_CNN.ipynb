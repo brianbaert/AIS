{
 "cells": [
  {
   "cell_type": "markdown",
   "id": "66cddb27-d8d9-4a4d-afe7-4129e494cab6",
   "metadata": {},
   "source": [
    "## CNN Binary classification of UNSW_NB15 dataset"
   ]
  },
  {
   "cell_type": "markdown",
   "id": "4d09b2a9-a912-4c29-9c41-567b3dd9dd1a",
   "metadata": {},
   "source": [
    "### Necessary imports"
   ]
  },
  {
   "cell_type": "code",
   "execution_count": 163,
   "id": "af4a0271-bdad-4097-ab1b-8bf29afb5b9a",
   "metadata": {},
   "outputs": [],
   "source": [
    "import numpy as np\n",
    "import pandas as pd\n",
    "import torch\n",
    "import torch.nn as nn\n",
    "import torch.optim as optim\n",
    "import torch.nn.functional as F\n",
    "from torch.utils.data import DataLoader, TensorDataset\n",
    "from sklearn.model_selection import train_test_split\n",
    "from sklearn.metrics import confusion_matrix, classification_report, multilabel_confusion_matrix, ConfusionMatrixDisplay\n",
    "import sys\n",
    "# adding tools folder to the system path\n",
    "sys.path.insert(0, 'C:\\\\Users\\\\Brian.Baert\\\\GitHub\\\\AIS\\\\IDS\\\\tools')\n",
    "import plot\n",
    "import matplotlib.pyplot as plt\n",
    "import seaborn as sns"
   ]
  },
  {
   "cell_type": "markdown",
   "id": "4747bcc6-2fef-4c80-91a9-842acddb0647",
   "metadata": {},
   "source": [
    "## Binary classification model"
   ]
  },
  {
   "cell_type": "markdown",
   "id": "a1608f52-1b25-4ffa-8396-bc436371f516",
   "metadata": {},
   "source": [
    "### Define the model\n",
    "\n",
    "The model is constructed as a CNN model. The architecture includes one convolutional layer followed by a ReLU activation, max pooling and dropbout for regularization. The size of the flattened layer is dynamically calculated to ensure compatibility with the fully connected layers. The forward method processes the input through these layers, flattens the output and applies two fully connected layers with a ReLU activation in between, ultimately producing the final class scores."
   ]
  },
  {
   "cell_type": "code",
   "execution_count": 13,
   "id": "30c7f92d-54ba-4940-a681-bb34e6d991b1",
   "metadata": {},
   "outputs": [],
   "source": [
    "# Define the CNN model\n",
    "class CNNModel(nn.Module):\n",
    "    def __init__(self, num_classes, input_length):\n",
    "        super(CNNModel, self).__init__()\n",
    "        self.conv1 = nn.Conv1d(in_channels=1, out_channels=64, kernel_size=3)\n",
    "        self.pool = nn.MaxPool1d(kernel_size=2)\n",
    "        self.dropout = nn.Dropout(0.35)\n",
    "        \n",
    "        # Calculate the size of the flattened layer dynamically\n",
    "        self._to_linear = None\n",
    "        self.convs = nn.Sequential(\n",
    "            self.conv1,\n",
    "            nn.ReLU(),\n",
    "            self.pool,\n",
    "            self.dropout\n",
    "        )\n",
    "        self._get_conv_output(input_length)\n",
    "        \n",
    "        self.fc1 = nn.Linear(self._to_linear, 64)\n",
    "        self.fc2 = nn.Linear(64, num_classes)\n",
    "    \n",
    "    def _get_conv_output(self, shape):\n",
    "        o = self.convs(torch.zeros(1, 1, shape))\n",
    "        self._to_linear = o.numel()\n",
    "    \n",
    "    def forward(self, x):\n",
    "        x = self.convs(x)\n",
    "        x = x.view(x.size(0), -1)  # Flatten the tensor\n",
    "        x = torch.relu(self.fc1(x))\n",
    "        x = self.fc2(x)\n",
    "        return x"
   ]
  },
  {
   "cell_type": "markdown",
   "id": "17032a76-8abc-4822-a353-80e315c65990",
   "metadata": {},
   "source": [
    "- Load the binary dataset\n",
    "- Separate the input features (X) from the label (Y)\n",
    "- Split into training and testing sets (80-20)"
   ]
  },
  {
   "cell_type": "code",
   "execution_count": 17,
   "id": "e113bdfc-18a8-41ff-85a5-e9ed516d089f",
   "metadata": {},
   "outputs": [],
   "source": [
    "bin_data = pd.read_csv(\"bin_data.csv\")\n",
    "X = bin_data.drop(columns = ['label'], axis = 1)\n",
    "Y = bin_data['label']\n",
    "X_train, X_test, y_train, y_test = train_test_split(X, Y, test_size = 0.20, random_state = 50)"
   ]
  },
  {
   "cell_type": "markdown",
   "id": "bd8a0d3b-f3c2-4687-abcf-981efd35f6fe",
   "metadata": {},
   "source": [
    "- Identify the unique class labels\n",
    "- Determine the number of classes\n",
    "- Output the unique class labels"
   ]
  },
  {
   "cell_type": "code",
   "execution_count": 19,
   "id": "94596e72-caa5-4c1a-b594-17f414d73589",
   "metadata": {},
   "outputs": [
    {
     "data": {
      "text/plain": [
       "(array([0, 1], dtype=int64), 2)"
      ]
     },
     "execution_count": 19,
     "metadata": {},
     "output_type": "execute_result"
    }
   ],
   "source": [
    "unique_labels = np.unique(y_train)\n",
    "num_classes = len(unique_labels)\n",
    "unique_labels, num_classes"
   ]
  },
  {
   "cell_type": "markdown",
   "id": "3d3f3d1f-e02e-43db-9e0f-1c976163aeb6",
   "metadata": {},
   "source": [
    "- Convert Train/Test Features/Labels to a PyTorch tensor\n",
    "- Create DataLoader "
   ]
  },
  {
   "cell_type": "code",
   "execution_count": 21,
   "id": "2f8f8fd1-e610-4941-a48d-dffd3000b5ad",
   "metadata": {},
   "outputs": [],
   "source": [
    "X_train = torch.tensor(X_train.values, dtype=torch.float32).unsqueeze(1)  # Add channel dimension\n",
    "X_test = torch.tensor(X_test.values, dtype=torch.float32).unsqueeze(1)\n",
    "y_train = torch.tensor(y_train.values, dtype=torch.long)\n",
    "y_test = torch.tensor(y_test.values, dtype=torch.long)\n",
    "\n",
    "train_dataset = TensorDataset(X_train, y_train)\n",
    "test_dataset = TensorDataset(X_test, y_test)\n",
    "\n",
    "train_loader = DataLoader(train_dataset, batch_size=256, shuffle=True)\n",
    "test_loader = DataLoader(test_dataset, batch_size=256, shuffle=False)"
   ]
  },
  {
   "cell_type": "markdown",
   "id": "5c9ba112-1360-4687-9589-52d4fae7a066",
   "metadata": {},
   "source": [
    "- Determine number of unique classes\n",
    "- Get the length of the input sequence from the training data\n",
    "- Instantiate the model with the number of classes and input sequence length\n",
    "- Define CrossEntropyLoss function and Adam optimizer"
   ]
  },
  {
   "cell_type": "code",
   "execution_count": 23,
   "id": "473a469e-9514-4442-afff-f803db87d4a3",
   "metadata": {},
   "outputs": [],
   "source": [
    "# Initialize the model, loss function, and optimizer\n",
    "num_classes = len(set(y_train.numpy()))\n",
    "input_length = X_train.shape[2]  # Length of the input sequence\n",
    "model = CNNModel(num_classes, input_length)\n",
    "criterion = nn.CrossEntropyLoss()\n",
    "optimizer = optim.Adam(model.parameters(), lr=1e-4)"
   ]
  },
  {
   "cell_type": "markdown",
   "id": "91e8218c-f6b0-48e0-b4ad-6ad487872c8e",
   "metadata": {},
   "source": [
    "- Set the training parameters to 50 epochs, best_loss to $\\infty$ and patience 10 \n",
    "- For each epoch, the model is set to training mode. Predictions are made and the loss is calculated.\n",
    "- The model is afterwards set to evaluation mode and a validation loss is calculated without gradient computation. Print the average validation loss.\n",
    "- If the validation loss improves, save the best model. If the validation loss does not improve after a fixed amount of times (threshold), the training stops to prevent overfitting."
   ]
  },
  {
   "cell_type": "code",
   "execution_count": 25,
   "id": "df47b8b5-0057-4c2c-ae12-298d3a58b40d",
   "metadata": {},
   "outputs": [
    {
     "name": "stdout",
     "output_type": "stream",
     "text": [
      "Epoch 1/50, Validation Loss: 8.014264022910988\n",
      "Epoch 2/50, Validation Loss: 100.24801593822437\n",
      "Epoch 3/50, Validation Loss: 1.2315846157597972\n",
      "Epoch 4/50, Validation Loss: 1.25153341791132\n",
      "Epoch 5/50, Validation Loss: 1.5218640447972895\n",
      "Epoch 6/50, Validation Loss: 3.3289501195425517\n",
      "Epoch 7/50, Validation Loss: 1.3893168725810208\n",
      "Epoch 8/50, Validation Loss: 3.4254031548133264\n",
      "Epoch 9/50, Validation Loss: 1.7067758591620477\n",
      "Epoch 10/50, Validation Loss: 1.3433990236167068\n",
      "Epoch 11/50, Validation Loss: 1.1115912310369722\n",
      "Epoch 12/50, Validation Loss: 1.3521026851056697\n",
      "Epoch 13/50, Validation Loss: 1.1251104015570421\n",
      "Epoch 14/50, Validation Loss: 1.445108942933135\n",
      "Epoch 15/50, Validation Loss: 1.106843081149426\n",
      "Epoch 16/50, Validation Loss: 2.1441999084346897\n",
      "Epoch 17/50, Validation Loss: 0.9039765301641527\n",
      "Epoch 18/50, Validation Loss: 0.7820141276160439\n",
      "Epoch 19/50, Validation Loss: 0.6403670415773497\n",
      "Epoch 20/50, Validation Loss: 0.6233628831066929\n",
      "Epoch 21/50, Validation Loss: 5.000104063159817\n",
      "Epoch 22/50, Validation Loss: 0.5727615726518107\n",
      "Epoch 23/50, Validation Loss: 0.598780537372107\n",
      "Epoch 24/50, Validation Loss: 0.5624174292270954\n",
      "Epoch 25/50, Validation Loss: 0.527694332075643\n",
      "Epoch 26/50, Validation Loss: 0.5443386160410367\n",
      "Epoch 27/50, Validation Loss: 0.7014411347252982\n",
      "Epoch 28/50, Validation Loss: 0.4266809886628455\n",
      "Epoch 29/50, Validation Loss: 0.4944262406328222\n",
      "Epoch 30/50, Validation Loss: 0.496648262490283\n",
      "Epoch 31/50, Validation Loss: 9.579641625121399\n",
      "Epoch 32/50, Validation Loss: 0.3877786627182594\n",
      "Epoch 33/50, Validation Loss: 0.37271567180261506\n",
      "Epoch 34/50, Validation Loss: 1.6146463188496265\n",
      "Epoch 35/50, Validation Loss: 0.6245192551350855\n",
      "Epoch 36/50, Validation Loss: 0.33031262653869586\n",
      "Epoch 37/50, Validation Loss: 0.4368975074081631\n",
      "Epoch 38/50, Validation Loss: 0.28311633883596776\n",
      "Epoch 39/50, Validation Loss: 0.3034818241229424\n",
      "Epoch 40/50, Validation Loss: 0.31080906289619403\n",
      "Epoch 41/50, Validation Loss: 0.399229659647732\n",
      "Epoch 42/50, Validation Loss: 0.46046004190549744\n",
      "Epoch 43/50, Validation Loss: 0.7445130426805098\n",
      "Epoch 44/50, Validation Loss: 0.3675864342149797\n",
      "Epoch 45/50, Validation Loss: 0.2612126628448675\n",
      "Epoch 46/50, Validation Loss: 0.2384383717736045\n",
      "Epoch 47/50, Validation Loss: 0.21499883023264643\n",
      "Epoch 48/50, Validation Loss: 0.28335231182339427\n",
      "Epoch 49/50, Validation Loss: 0.39348458556028515\n",
      "Epoch 50/50, Validation Loss: 0.19412471599631256\n"
     ]
    }
   ],
   "source": [
    "# Training loop\n",
    "num_epochs = 50\n",
    "best_loss = float('inf')\n",
    "patience = 10\n",
    "trigger_times = 0\n",
    "\n",
    "for epoch in range(num_epochs):\n",
    "    model.train()\n",
    "    for X_batch, y_batch in train_loader:\n",
    "        optimizer.zero_grad()\n",
    "        outputs = model(X_batch)\n",
    "        loss = criterion(outputs, y_batch)\n",
    "        loss.backward()\n",
    "        optimizer.step()\n",
    "    \n",
    "    model.eval()\n",
    "    val_loss = 0.0\n",
    "    with torch.no_grad():\n",
    "        for X_batch, y_batch in test_loader:\n",
    "            outputs = model(X_batch)\n",
    "            loss = criterion(outputs, y_batch)\n",
    "            val_loss += loss.item()\n",
    "    \n",
    "    val_loss /= len(test_loader)\n",
    "    print(f'Epoch {epoch+1}/{num_epochs}, Validation Loss: {val_loss}')\n",
    "    \n",
    "    # Early stopping\n",
    "    if val_loss < best_loss:\n",
    "        best_loss = val_loss\n",
    "        torch.save(model.state_dict(), 'best_model_cnn.pth')\n",
    "        trigger_times = 0\n",
    "    else:\n",
    "        trigger_times += 1\n",
    "        if trigger_times >= patience:\n",
    "            print('Early stopping!')\n",
    "            break"
   ]
  },
  {
   "cell_type": "markdown",
   "id": "17c6765a-7f6b-40d2-9ef4-0e59a9de5ff0",
   "metadata": {},
   "source": [
    "- Set the model to evaluation mode\n",
    "- Calculate the test set probabilities using the Softmax activation function\n",
    "- Get the predicted labels"
   ]
  },
  {
   "cell_type": "code",
   "execution_count": 47,
   "id": "b9aee480-0aed-412f-9e35-7186cdfcb304",
   "metadata": {},
   "outputs": [],
   "source": [
    "model.eval()\n",
    "# Get the model's output\n",
    "with torch.no_grad():\n",
    "    outputs = model(X_test)\n",
    "# Convert the outputs to probabilities using softmax\n",
    "y_test_probabilities = F.softmax(outputs, dim=1).numpy()\n",
    "\n",
    "# Get the predicted class labels\n",
    "y_test_pred = np.argmax(y_test_probabilities, axis=1)"
   ]
  },
  {
   "cell_type": "markdown",
   "id": "15ac9fdf-291b-4b0d-ba20-5297f8e9c906",
   "metadata": {},
   "source": [
    "- Plot the confusion matrix and classification report"
   ]
  },
  {
   "cell_type": "code",
   "execution_count": 55,
   "id": "c1bae4aa-0a76-4acb-b32a-242f1e14646f",
   "metadata": {},
   "outputs": [
    {
     "name": "stdout",
     "output_type": "stream",
     "text": [
      "              precision    recall  f1-score   support\n",
      "\n",
      "           0       0.95      0.97      0.96     17395\n",
      "           1       0.90      0.85      0.88      5876\n",
      "\n",
      "    accuracy                           0.94     23271\n",
      "   macro avg       0.93      0.91      0.92     23271\n",
      "weighted avg       0.94      0.94      0.94     23271\n",
      "\n"
     ]
    }
   ],
   "source": [
    "conf_matrix = confusion_matrix(y_test, y_test_pred)\n",
    "print(classification_report(y_test, y_test_pred))"
   ]
  },
  {
   "cell_type": "code",
   "execution_count": 61,
   "id": "7bd6854a-5e83-437d-8403-f8b356832ca3",
   "metadata": {},
   "outputs": [
    {
     "data": {
      "image/png": "[encoded data removed]",
      "text/plain": [
       "<Figure size 1000x700 with 2 Axes>"
      ]
     },
     "metadata": {},
     "output_type": "display_data"
    }
   ],
   "source": [
    "plt.figure(figsize=(5, 6))\n",
    "sns.heatmap(conf_matrix, annot=True, fmt='d', cmap='Blues', xticklabels=unique_labels, yticklabels=unique_labels)\n",
    "plt.xlabel('Predicted')\n",
    "plt.ylabel('Actual')\n",
    "plt.title('Confusion Matrix')\n",
    "plt.show()"
   ]
  },
  {
   "cell_type": "markdown",
   "id": "cffafc9d-7ef7-4d6b-8516-0a917a73ed42",
   "metadata": {},
   "source": [
    "## Multilabel classification model"
   ]
  },
  {
   "cell_type": "markdown",
   "id": "d30a0fdb-453c-4fe3-9a24-cffefe8424bd",
   "metadata": {},
   "source": [
    "- Load the binary dataset\n",
    "- Create a list with the class labels\n",
    "- Separate the input features (X) from the label (Y)\n",
    "- Split into training and testing sets (80-20)"
   ]
  },
  {
   "cell_type": "code",
   "execution_count": 139,
   "id": "401d382a-41d6-4fa4-9ceb-d339c5474fcc",
   "metadata": {},
   "outputs": [
    {
     "name": "stdout",
     "output_type": "stream",
     "text": [
      "(116352, 16)\n",
      "(116352, 15)\n"
     ]
    }
   ],
   "source": [
    "bin_data = pd.read_csv(\"bin_data.csv\")\n",
    "multi_data = pd.read_csv(\"multi_data.csv\")\n",
    "print(bin_data.shape)\n",
    "print(multi_data.shape)"
   ]
  },
  {
   "cell_type": "code",
   "execution_count": 147,
   "id": "c1e80cad-79a9-4ee0-8707-1626abedb9a0",
   "metadata": {},
   "outputs": [],
   "source": [
    "labels = ['Analysis', 'Backdoor', 'DoS', 'Exploits', 'Fuzzers', 'Generic',\n",
    "       'Normal', 'Reconnaissance', 'Worms']"
   ]
  },
  {
   "cell_type": "code",
   "execution_count": null,
   "id": "8859bb2b-1fa5-4ef9-8b17-6fa2f0b98c76",
   "metadata": {},
   "outputs": [],
   "source": []
  },
  {
   "cell_type": "code",
   "execution_count": 121,
   "id": "bf77882a-e067-4bf1-8592-3f3e0878de4c",
   "metadata": {},
   "outputs": [],
   "source": [
    "X = multi_data.drop(columns=['label'], axis=1)\n",
    "Y = multi_data['label']\n",
    "X_train, X_test, y_train, y_test = train_test_split(X, Y, test_size=0.20, random_state=50)"
   ]
  },
  {
   "cell_type": "markdown",
   "id": "2716f099-008b-443f-9b45-099b6a50f20b",
   "metadata": {},
   "source": [
    "- Identify the unique class labels\n",
    "- Determine the number of classes\n",
    "- Output the unique class labels"
   ]
  },
  {
   "cell_type": "code",
   "execution_count": 123,
   "id": "2ec56daf-7706-4995-956d-45e3f9b905af",
   "metadata": {},
   "outputs": [
    {
     "data": {
      "text/plain": [
       "(array([0, 1, 2, 3, 4, 5, 6, 7, 8], dtype=int64), 9)"
      ]
     },
     "execution_count": 123,
     "metadata": {},
     "output_type": "execute_result"
    }
   ],
   "source": [
    "unique_labels = np.unique(y_train)\n",
    "num_classes = len(unique_labels)\n",
    "unique_labels, num_classes"
   ]
  },
  {
   "cell_type": "markdown",
   "id": "6c6bd684-0d3f-4c50-a91b-9be3bd7db9d1",
   "metadata": {},
   "source": [
    "The multilabel model defines a CNN tailored for multilabel classification. It consists of three convolutional layers, each followed by a ReLU activation and max pooling to reduce spatial dimensions. Dropout layers are added to prevent overfitting. "
   ]
  },
  {
   "cell_type": "code",
   "execution_count": 125,
   "id": "5e9679dc-8c00-466c-ad65-87f055f908c2",
   "metadata": {},
   "outputs": [],
   "source": [
    "# Define the CNN model\n",
    "class CNNModel_Multilabel(nn.Module):\n",
    "    def __init__(self, num_classes, input_length):\n",
    "        super(CNNModel_Multilabel, self).__init__()\n",
    "        self.conv1 = nn.Conv1d(in_channels=1, out_channels=64, kernel_size=3, padding=1)\n",
    "        self.pool1 = nn.MaxPool1d(kernel_size=2)\n",
    "        self.conv2 = nn.Conv1d(in_channels=64, out_channels=32, kernel_size=3, padding=1)\n",
    "        self.pool2 = nn.MaxPool1d(kernel_size=2)\n",
    "        self.conv3 = nn.Conv1d(in_channels=32, out_channels=16, kernel_size=3, padding=1)\n",
    "        self.pool3 = nn.MaxPool1d(kernel_size=2)\n",
    "        self.dropout = nn.Dropout(0.2)\n",
    "        \n",
    "        # Calculate the size of the flattened layer dynamically\n",
    "        self._to_linear = None\n",
    "        self.convs = nn.Sequential(\n",
    "            self.conv1,\n",
    "            nn.ReLU(),\n",
    "            self.pool1,\n",
    "            self.conv2,\n",
    "            nn.ReLU(),\n",
    "            self.pool2,\n",
    "            self.dropout,\n",
    "            self.conv3,\n",
    "            nn.ReLU(),\n",
    "            self.pool3,\n",
    "            self.dropout\n",
    "        )\n",
    "        self._get_conv_output(input_length)\n",
    "        \n",
    "        self.fc1 = nn.Linear(self._to_linear, 64)\n",
    "        self.fc2 = nn.Linear(64, num_classes)\n",
    "    \n",
    "    def _get_conv_output(self, shape):\n",
    "        o = self.convs(torch.zeros(1, 1, shape))\n",
    "        self._to_linear = o.numel()\n",
    "    \n",
    "    def forward(self, x):\n",
    "        x = self.convs(x)\n",
    "        x = x.view(x.size(0), -1)  # Flatten the tensor\n",
    "        x = torch.relu(self.fc1(x))\n",
    "        x = self.fc2(x)\n",
    "        return x"
   ]
  },
  {
   "cell_type": "markdown",
   "id": "8269845f-97c6-409c-a413-6dfd27a4bed3",
   "metadata": {},
   "source": [
    "- Convert Train/Test Features/Labels to a PyTorch tensor\n",
    "- Create DataLoader "
   ]
  },
  {
   "cell_type": "code",
   "execution_count": 127,
   "id": "b7b9b97b-4e8f-4334-bbed-fe03e9fd45ef",
   "metadata": {},
   "outputs": [],
   "source": [
    "X_train = torch.tensor(X_train.values, dtype=torch.float32).unsqueeze(1)  # Add channel dimension\n",
    "X_test = torch.tensor(X_test.values, dtype=torch.float32).unsqueeze(1)\n",
    "y_train = torch.tensor(y_train.values, dtype=torch.long)\n",
    "y_test = torch.tensor(y_test.values, dtype=torch.long)\n",
    "\n",
    "train_dataset = TensorDataset(X_train, y_train)\n",
    "test_dataset = TensorDataset(X_test, y_test)\n",
    "\n",
    "train_loader = DataLoader(train_dataset, batch_size=256, shuffle=True)\n",
    "test_loader = DataLoader(test_dataset, batch_size=256, shuffle=False)"
   ]
  },
  {
   "cell_type": "markdown",
   "id": "998df114-c311-46cc-9e7c-dd0bdcec3a89",
   "metadata": {},
   "source": [
    "- Determine number of unique classes\n",
    "- Get the length of the input sequence from the training data\n",
    "- Instantiate the model with the number of classes and input sequence length\n",
    "- Define CrossEntropyLoss function and Adam optimizer\n",
    "- Set the training parameters to 100 epochs, best_loss to $\\infty$ and patience 15 \n",
    "- For each batch, the model is set to training mode. Predictions are made and the loss is calculated.\n",
    "- The model is afterwards set to evaluation mode and a validation loss is calculated without gradient computation. Print the average validation loss.\n",
    "- If the validation loss improves, save the best model. If the validation loss does not improve after a fixed amount of times (threshold), the training stops to prevent overfitting."
   ]
  },
  {
   "cell_type": "code",
   "execution_count": 129,
   "id": "bd539c5d-f13b-4539-869b-3e3519e30ba2",
   "metadata": {},
   "outputs": [
    {
     "name": "stdout",
     "output_type": "stream",
     "text": [
      "Epoch 1/100, Validation Loss: 59.06423111800309\n",
      "Epoch 2/100, Validation Loss: 19.78262810130696\n",
      "Epoch 3/100, Validation Loss: 7.210284809489827\n",
      "Epoch 4/100, Validation Loss: 4.105354725659549\n",
      "Epoch 5/100, Validation Loss: 2.788497351028107\n",
      "Epoch 6/100, Validation Loss: 2.2765307229953806\n",
      "Epoch 7/100, Validation Loss: 1.968021489761688\n",
      "Epoch 8/100, Validation Loss: 1.7239706621065245\n",
      "Epoch 9/100, Validation Loss: 1.538863493846013\n",
      "Epoch 10/100, Validation Loss: 1.422845150088216\n",
      "Epoch 11/100, Validation Loss: 1.3858246122087752\n",
      "Epoch 12/100, Validation Loss: 1.3728028810941255\n",
      "Epoch 13/100, Validation Loss: 1.3614835385437851\n",
      "Epoch 14/100, Validation Loss: 1.358139801811386\n",
      "Epoch 15/100, Validation Loss: 1.349617321412642\n",
      "Epoch 16/100, Validation Loss: 1.3493898936680384\n",
      "Epoch 17/100, Validation Loss: 1.3567620699222271\n",
      "Epoch 18/100, Validation Loss: 1.3470698516447466\n",
      "Epoch 19/100, Validation Loss: 1.3477451997798877\n",
      "Epoch 20/100, Validation Loss: 1.336398618561881\n",
      "Epoch 21/100, Validation Loss: 1.3202526792065128\n",
      "Epoch 22/100, Validation Loss: 1.3502243285650735\n",
      "Epoch 23/100, Validation Loss: 1.3458409387986738\n",
      "Epoch 24/100, Validation Loss: 1.3511713166813275\n",
      "Epoch 25/100, Validation Loss: 1.3360767600300547\n",
      "Epoch 26/100, Validation Loss: 1.3447356970755608\n",
      "Epoch 27/100, Validation Loss: 1.3392935179092071\n",
      "Epoch 28/100, Validation Loss: 1.3389563468786387\n",
      "Epoch 29/100, Validation Loss: 1.3159489566153222\n",
      "Epoch 30/100, Validation Loss: 1.340194616998945\n",
      "Epoch 31/100, Validation Loss: 1.3067861860925025\n",
      "Epoch 32/100, Validation Loss: 1.269986173608801\n",
      "Epoch 33/100, Validation Loss: 1.2824760609930688\n",
      "Epoch 34/100, Validation Loss: 1.249065095251733\n",
      "Epoch 35/100, Validation Loss: 1.2162302391869682\n",
      "Epoch 36/100, Validation Loss: 1.1768891863770536\n",
      "Epoch 37/100, Validation Loss: 1.1291083968602693\n",
      "Epoch 38/100, Validation Loss: 1.1188851516325395\n",
      "Epoch 39/100, Validation Loss: 1.0980768616382892\n",
      "Epoch 40/100, Validation Loss: 1.1055911681154271\n",
      "Epoch 41/100, Validation Loss: 1.063739530987792\n",
      "Epoch 42/100, Validation Loss: 1.0579192245399558\n",
      "Epoch 43/100, Validation Loss: 1.0560426921634885\n",
      "Epoch 44/100, Validation Loss: 1.0439514432634627\n",
      "Epoch 45/100, Validation Loss: 1.0242888724410928\n",
      "Epoch 46/100, Validation Loss: 1.0238532790770898\n",
      "Epoch 47/100, Validation Loss: 1.047858008971581\n",
      "Epoch 48/100, Validation Loss: 1.0069335384683296\n",
      "Epoch 49/100, Validation Loss: 1.024219241116073\n",
      "Epoch 50/100, Validation Loss: 1.0072148258869464\n",
      "Epoch 51/100, Validation Loss: 1.031150303699158\n",
      "Epoch 52/100, Validation Loss: 0.9648170143693358\n",
      "Epoch 53/100, Validation Loss: 0.9692526223895314\n",
      "Epoch 54/100, Validation Loss: 0.9770525399145189\n",
      "Epoch 55/100, Validation Loss: 0.999209293297359\n",
      "Epoch 56/100, Validation Loss: 0.9791506758103004\n",
      "Epoch 57/100, Validation Loss: 0.9575587615861998\n",
      "Epoch 58/100, Validation Loss: 0.961947229537335\n",
      "Epoch 59/100, Validation Loss: 0.9615221698205549\n",
      "Epoch 60/100, Validation Loss: 0.9451645180419251\n",
      "Epoch 61/100, Validation Loss: 0.9378694741280524\n",
      "Epoch 62/100, Validation Loss: 0.9305788953225691\n",
      "Epoch 63/100, Validation Loss: 0.9622915478853079\n",
      "Epoch 64/100, Validation Loss: 0.9037298802491073\n",
      "Epoch 65/100, Validation Loss: 0.935014450943077\n",
      "Epoch 66/100, Validation Loss: 0.9093810378850161\n",
      "Epoch 67/100, Validation Loss: 0.934803958777543\n",
      "Epoch 68/100, Validation Loss: 0.8613010952760886\n",
      "Epoch 69/100, Validation Loss: 0.9344508117371864\n",
      "Epoch 70/100, Validation Loss: 0.9253496606271345\n",
      "Epoch 71/100, Validation Loss: 0.890968572307419\n",
      "Epoch 72/100, Validation Loss: 0.8601461504841899\n",
      "Epoch 73/100, Validation Loss: 0.8393330547835801\n",
      "Epoch 74/100, Validation Loss: 0.8247387179961572\n",
      "Epoch 75/100, Validation Loss: 0.796911800955678\n",
      "Epoch 76/100, Validation Loss: 0.7951087486612928\n",
      "Epoch 77/100, Validation Loss: 0.7808402495069818\n",
      "Epoch 78/100, Validation Loss: 0.7592720618614783\n",
      "Epoch 79/100, Validation Loss: 0.7295657180167816\n",
      "Epoch 80/100, Validation Loss: 0.7137669783372146\n",
      "Epoch 81/100, Validation Loss: 0.7138229438236782\n",
      "Epoch 82/100, Validation Loss: 0.6559391794623909\n",
      "Epoch 83/100, Validation Loss: 0.6181367020030598\n",
      "Epoch 84/100, Validation Loss: 0.5762235017923208\n",
      "Epoch 85/100, Validation Loss: 0.5547489379788493\n",
      "Epoch 86/100, Validation Loss: 0.549163295017494\n",
      "Epoch 87/100, Validation Loss: 0.5342713918659713\n",
      "Epoch 88/100, Validation Loss: 0.5188984592537303\n",
      "Epoch 89/100, Validation Loss: 0.5105039382373894\n",
      "Epoch 90/100, Validation Loss: 0.4990323074571379\n",
      "Epoch 91/100, Validation Loss: 0.48096716764209035\n",
      "Epoch 92/100, Validation Loss: 0.4776372968495547\n",
      "Epoch 93/100, Validation Loss: 0.46602855704642915\n",
      "Epoch 94/100, Validation Loss: 0.467826743047316\n",
      "Epoch 95/100, Validation Loss: 0.4495446514952314\n",
      "Epoch 96/100, Validation Loss: 0.43926178819530615\n",
      "Epoch 97/100, Validation Loss: 0.43989566099512706\n",
      "Epoch 98/100, Validation Loss: 0.4262047039938497\n",
      "Epoch 99/100, Validation Loss: 0.4184810096745963\n",
      "Epoch 100/100, Validation Loss: 0.4118989830488687\n"
     ]
    }
   ],
   "source": [
    "# Initialize the model, loss function, and optimizer\n",
    "num_classes = len(set(y_train.numpy()))\n",
    "input_length = X_train.shape[2]  # Length of the input sequence\n",
    "model = CNNModel_Multilabel(num_classes, input_length)\n",
    "criterion = nn.CrossEntropyLoss()\n",
    "optimizer = optim.Adam(model.parameters(), lr=1e-5)\n",
    "\n",
    "# Training loop with early stopping and model checkpoint\n",
    "num_epochs = 100\n",
    "best_loss = float('inf')\n",
    "patience = 15\n",
    "trigger_times = 0\n",
    "\n",
    "for epoch in range(num_epochs):\n",
    "    model.train()\n",
    "    for X_batch, y_batch in train_loader:\n",
    "        optimizer.zero_grad()\n",
    "        outputs = model(X_batch)\n",
    "        loss = criterion(outputs, y_batch)\n",
    "        loss.backward()\n",
    "        optimizer.step()\n",
    "    \n",
    "    model.eval()\n",
    "    val_loss = 0.0\n",
    "    with torch.no_grad():\n",
    "        for X_batch, y_batch in test_loader:\n",
    "            outputs = model(X_batch)\n",
    "            loss = criterion(outputs, y_batch)\n",
    "            val_loss += loss.item()\n",
    "    \n",
    "    val_loss /= len(test_loader)\n",
    "    print(f'Epoch {epoch+1}/{num_epochs}, Validation Loss: {val_loss}')\n",
    "    \n",
    "    # Early stopping\n",
    "    if val_loss < best_loss:\n",
    "        best_loss = val_loss\n",
    "        torch.save(model.state_dict(), 'cnn_best_model.pth')\n",
    "        trigger_times = 0\n",
    "    else:\n",
    "        trigger_times += 1\n",
    "        if trigger_times >= patience:\n",
    "            print('Early stopping!')\n",
    "            break"
   ]
  },
  {
   "cell_type": "markdown",
   "id": "c75f8c83-7ddc-4ad0-8993-a5ed35b2b7cc",
   "metadata": {},
   "source": [
    "- Set the model to evaluation mode\n",
    "- Calculate the test set probabilities using the Softmax activation function\n",
    "- Get the predicted labels"
   ]
  },
  {
   "cell_type": "code",
   "execution_count": 130,
   "id": "70b5db03-9dfc-45e4-87ad-4a56755f4c16",
   "metadata": {},
   "outputs": [],
   "source": [
    "model.eval()\n",
    "# Get the model's output\n",
    "with torch.no_grad():\n",
    "    outputs = model(X_test)\n",
    "# Convert the outputs to probabilities using softmax\n",
    "y_test_probabilities = F.softmax(outputs, dim=1).numpy()\n",
    "\n",
    "# Get the predicted class labels\n",
    "y_test_pred = np.argmax(y_test_probabilities, axis=1)"
   ]
  },
  {
   "cell_type": "markdown",
   "id": "a5c85298-f244-4626-b1f4-adadf762ed71",
   "metadata": {},
   "source": [
    "- Plot confusion matrix and display classification report"
   ]
  },
  {
   "cell_type": "code",
   "execution_count": 155,
   "id": "08610c34-a7e8-4f33-aa98-f534490e9be8",
   "metadata": {},
   "outputs": [
    {
     "name": "stdout",
     "output_type": "stream",
     "text": [
      "                precision    recall  f1-score   support\n",
      "\n",
      "      Analysis       0.00      0.00      0.00       104\n",
      "      Backdoor       0.00      0.00      0.00        25\n",
      "           DoS       0.00      0.00      0.00       504\n",
      "      Exploits       0.65      0.68      0.66      4211\n",
      "       Fuzzers       0.00      0.00      0.00       469\n",
      "       Generic       0.99      0.99      0.99     11600\n",
      "        Normal       0.73      0.90      0.81      5876\n",
      "Reconnaissance       0.00      0.00      0.00       453\n",
      "         Worms       0.00      0.00      0.00        29\n",
      "\n",
      "      accuracy                           0.84     23271\n",
      "     macro avg       0.26      0.28      0.27     23271\n",
      "  weighted avg       0.79      0.84      0.82     23271\n",
      "\n"
     ]
    }
   ],
   "source": [
    "conf_matrix = confusion_matrix(y_test, y_test_pred)\n",
    "print(classification_report(y_test, y_test_pred, target_names=labels, zero_division=0))"
   ]
  },
  {
   "cell_type": "code",
   "execution_count": 167,
   "id": "a7887489-eb79-4915-968c-4043b3419d43",
   "metadata": {},
   "outputs": [
    {
     "data": {
      "image/png": "[encoded data removed]",
      "text/plain": [
       "<Figure size 640x480 with 2 Axes>"
      ]
     },
     "metadata": {},
     "output_type": "display_data"
    }
   ],
   "source": [
    "# Create a ConfusionMatrixDisplay object using the confusion matrix and display labels\n",
    "disp = ConfusionMatrixDisplay(confusion_matrix=conf_matrix, display_labels=labels)\n",
    "# Plot the confusion matrix\n",
    "disp.plot()\n",
    "# Rotate the x-axis tick labels by 90 degrees for better readability\n",
    "plt.xticks(rotation=90)\n",
    "# Display the plot\n",
    "plt.show()"
   ]
  },
  {
   "cell_type": "code",
   "execution_count": null,
   "id": "e8ea8251-ee35-4101-9e92-75736b70d77f",
   "metadata": {},
   "outputs": [],
   "source": []
  }
 ],
 "metadata": {
  "kernelspec": {
   "display_name": "Python 3 (ipykernel)",
   "language": "python",
   "name": "python3"
  },
  "language_info": {
   "codemirror_mode": {
    "name": "ipython",
    "version": 3
   },
   "file_extension": ".py",
   "mimetype": "text/x-python",
   "name": "python",
   "nbconvert_exporter": "python",
   "pygments_lexer": "ipython3",
   "version": "3.12.4"
  }
 },
 "nbformat": 4,
 "nbformat_minor": 5
}
